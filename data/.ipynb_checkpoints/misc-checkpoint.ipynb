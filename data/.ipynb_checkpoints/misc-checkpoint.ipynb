{
 "cells": [
  {
   "cell_type": "code",
   "execution_count": 15,
   "id": "e75ca633",
   "metadata": {},
   "outputs": [],
   "source": [
    "import svgwrite\n",
    "\n",
    "def text_to_svg(text, filename):\n",
    "    dwg = svgwrite.Drawing(filename, profile='tiny')\n",
    "    dwg.add(dwg.text(text, insert=(0, 0), fill='black'))\n",
    "    dwg.save()\n",
    "\n",
    "# Usage example\n",
    "text_to_svg(\"Hello, world!\", \"output.svg\")"
   ]
  },
  {
   "cell_type": "code",
   "execution_count": null,
   "id": "44d56050",
   "metadata": {},
   "outputs": [],
   "source": []
  },
  {
   "cell_type": "code",
   "execution_count": 19,
   "id": "159dabd5",
   "metadata": {},
   "outputs": [
    {
     "name": "stdout",
     "output_type": "stream",
     "text": [
      "[['अ', 'a'], ['आ', 'aa'], ['इ', 'i'], ['ई', 'ii'], ['उ', 'u'], ['ऊ', 'uu'], ['ऋ', 'tri'], ['ए', 'e'], ['ऐ', 'ai'], ['ओ', 'o'], ['औ', 'au'], ['अं', 'an']]\n"
     ]
    }
   ],
   "source": [
    "vowels = ['अ', 'आ', 'इ', 'ई', 'उ', 'ऊ', 'ऋ', 'ए', 'ऐ', 'ओ', 'औ', 'अं']\n",
    "eng_trans = ['a', 'aa', 'i', 'ii', 'u', 'uu', 'tri', 'e', 'ai', 'o', 'au', 'an']\n",
    "\n",
    "vowels_dict = []\n",
    "for v, e in zip(vowels, eng_trans):\n",
    "    vowels_dict.append([v, e])\n",
    "print(vowels_dict)"
   ]
  },
  {
   "cell_type": "code",
   "execution_count": 17,
   "id": "3e678c86",
   "metadata": {},
   "outputs": [],
   "source": [
    "save_loc = './vowels/'\n",
    "for vow, eng in vowels_dict:\n",
    "    text_to_svg(vow, save_loc+eng+'.svg')"
   ]
  }
 ],
 "metadata": {
  "kernelspec": {
   "display_name": "Python 3 (ipykernel)",
   "language": "python",
   "name": "python3"
  },
  "language_info": {
   "codemirror_mode": {
    "name": "ipython",
    "version": 3
   },
   "file_extension": ".py",
   "mimetype": "text/x-python",
   "name": "python",
   "nbconvert_exporter": "python",
   "pygments_lexer": "ipython3",
   "version": "3.8.10"
  }
 },
 "nbformat": 4,
 "nbformat_minor": 5
}
